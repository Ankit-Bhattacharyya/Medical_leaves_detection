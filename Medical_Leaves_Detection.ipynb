{
  "nbformat": 4,
  "nbformat_minor": 0,
  "metadata": {
    "colab": {
      "provenance": [],
      "gpuType": "T4"
    },
    "kernelspec": {
      "name": "python3",
      "display_name": "Python 3"
    },
    "language_info": {
      "name": "python"
    },
    "accelerator": "GPU"
  },
  "cells": [
    {
      "cell_type": "code",
      "execution_count": 1,
      "metadata": {
        "colab": {
          "base_uri": "https://localhost:8080/"
        },
        "id": "BB3YuzToh_OC",
        "outputId": "18341982-15d4-40ec-b220-5c9707ebf2d9"
      },
      "outputs": [
        {
          "output_type": "stream",
          "name": "stdout",
          "text": [
            "Mounted at /content/drive\n"
          ]
        }
      ],
      "source": [
        "from google.colab import drive\n",
        "drive.mount(\"/content/drive\")"
      ]
    },
    {
      "cell_type": "code",
      "source": [
        "!pwd"
      ],
      "metadata": {
        "colab": {
          "base_uri": "https://localhost:8080/"
        },
        "id": "j5rowbiW4E_r",
        "outputId": "3a47632d-4f34-4d47-c04f-d294626395c3"
      },
      "execution_count": 2,
      "outputs": [
        {
          "output_type": "stream",
          "name": "stdout",
          "text": [
            "/content\n"
          ]
        }
      ]
    },
    {
      "cell_type": "code",
      "source": [
        "%cd /content/drive//MyDrive"
      ],
      "metadata": {
        "colab": {
          "base_uri": "https://localhost:8080/"
        },
        "id": "57jPjwlJ3tk0",
        "outputId": "d6ef00d8-7fb0-43b9-b4b6-c73aa49449f4"
      },
      "execution_count": 3,
      "outputs": [
        {
          "output_type": "stream",
          "name": "stdout",
          "text": [
            "/content/drive/MyDrive\n"
          ]
        }
      ]
    },
    {
      "cell_type": "code",
      "source": [
        "import tensorflow as tf\n",
        "from tensorflow.keras import layers\n",
        "import numpy as np"
      ],
      "metadata": {
        "id": "u4JQ1UY2mIQG"
      },
      "execution_count": 4,
      "outputs": []
    },
    {
      "cell_type": "code",
      "source": [
        "dataset = tf.keras.preprocessing.image_dataset_from_directory(\n",
        "    \"/content/drive/MyDrive/Medicinal Leaf dataset\",\n",
        "    shuffle=True,\n",
        "    batch_size=32,\n",
        "    image_size=(299, 299),\n",
        ")\n",
        "\n",
        "labels = dataset.class_names\n",
        "labels"
      ],
      "metadata": {
        "colab": {
          "base_uri": "https://localhost:8080/"
        },
        "id": "eouNB1DJ3oPJ",
        "outputId": "2a44581d-a37d-4513-8876-9b9d9bbdcdaf"
      },
      "execution_count": 5,
      "outputs": [
        {
          "output_type": "stream",
          "name": "stdout",
          "text": [
            "Found 6900 files belonging to 80 classes.\n"
          ]
        },
        {
          "output_type": "execute_result",
          "data": {
            "text/plain": [
              "['Aloevera',\n",
              " 'Amla',\n",
              " 'Amruthaballi',\n",
              " 'Arali',\n",
              " 'Astma_weed',\n",
              " 'Badipala',\n",
              " 'Balloon_Vine',\n",
              " 'Bamboo',\n",
              " 'Beans',\n",
              " 'Betel',\n",
              " 'Bhrami',\n",
              " 'Bringaraja',\n",
              " 'Caricature',\n",
              " 'Castor',\n",
              " 'Catharanthus',\n",
              " 'Chakte',\n",
              " 'Chilly',\n",
              " 'Citron lime (herelikai)',\n",
              " 'Coffee',\n",
              " 'Common rue(naagdalli)',\n",
              " 'Coriender',\n",
              " 'Curry',\n",
              " 'Doddpathre',\n",
              " 'Drumstick',\n",
              " 'Ekka',\n",
              " 'Eucalyptus',\n",
              " 'Ganigale',\n",
              " 'Ganike',\n",
              " 'Gasagase',\n",
              " 'Ginger',\n",
              " 'Globe Amarnath',\n",
              " 'Guava',\n",
              " 'Henna',\n",
              " 'Hibiscus',\n",
              " 'Honge',\n",
              " 'Insulin',\n",
              " 'Jackfruit',\n",
              " 'Jasmine',\n",
              " 'Kambajala',\n",
              " 'Kasambruga',\n",
              " 'Kohlrabi',\n",
              " 'Lantana',\n",
              " 'Lemon',\n",
              " 'Lemongrass',\n",
              " 'Malabar_Nut',\n",
              " 'Malabar_Spinach',\n",
              " 'Mango',\n",
              " 'Marigold',\n",
              " 'Mint',\n",
              " 'Neem',\n",
              " 'Nelavembu',\n",
              " 'Nerale',\n",
              " 'Nooni',\n",
              " 'Onion',\n",
              " 'Padri',\n",
              " 'Palak(Spinach)',\n",
              " 'Papaya',\n",
              " 'Parijatha',\n",
              " 'Pea',\n",
              " 'Pepper',\n",
              " 'Pomoegranate',\n",
              " 'Pumpkin',\n",
              " 'Raddish',\n",
              " 'Rose',\n",
              " 'Sampige',\n",
              " 'Sapota',\n",
              " 'Seethaashoka',\n",
              " 'Seethapala',\n",
              " 'Spinach1',\n",
              " 'Tamarind',\n",
              " 'Taro',\n",
              " 'Tecoma',\n",
              " 'Thumbe',\n",
              " 'Tomato',\n",
              " 'Tulsi',\n",
              " 'Turmeric',\n",
              " 'ashoka',\n",
              " 'camphor',\n",
              " 'kamakasturi',\n",
              " 'kepala']"
            ]
          },
          "metadata": {},
          "execution_count": 5
        }
      ]
    },
    {
      "cell_type": "code",
      "source": [
        "for image_batch, labels_batch in dataset.take(1):\n",
        "    print(image_batch.shape)\n",
        "    print(labels_batch.numpy())\n",
        "    break"
      ],
      "metadata": {
        "colab": {
          "base_uri": "https://localhost:8080/"
        },
        "id": "S04qeMSd4bOB",
        "outputId": "c28cdd74-5284-42d6-b493-ee8576e84663"
      },
      "execution_count": 6,
      "outputs": [
        {
          "output_type": "stream",
          "name": "stdout",
          "text": [
            "(32, 299, 299, 3)\n",
            "[14 29 44 35  4 14 28 11  0 56 68 41 27 34 14 64 47 33 16 70 63  2 24 35\n",
            " 27  2 13  3 56 18 40 50]\n"
          ]
        }
      ]
    },
    {
      "cell_type": "code",
      "source": [
        "# train test split\n",
        "train_size = int(0.8 * len(dataset))\n",
        "test_size = int(0.2 * len(dataset))\n",
        "train_size, test_size"
      ],
      "metadata": {
        "colab": {
          "base_uri": "https://localhost:8080/"
        },
        "id": "wKy8p7_T5D0s",
        "outputId": "2d06f84e-22a5-425f-da25-128bb2b1415e"
      },
      "execution_count": 7,
      "outputs": [
        {
          "output_type": "execute_result",
          "data": {
            "text/plain": [
              "(172, 43)"
            ]
          },
          "metadata": {},
          "execution_count": 7
        }
      ]
    },
    {
      "cell_type": "code",
      "source": [
        "def get_dataset_partisions_tf(ds, train_split=0.8, test_split=0.2, shuffle=True, shuffle_size=10000):\n",
        "    if shuffle:\n",
        "        ds = ds.shuffle(shuffle_size, seed=12)\n",
        "    train_size = int(train_split * len(ds))\n",
        "    test_size = int(test_split * len(ds))\n",
        "    train_ds = ds.take(train_size)\n",
        "    test_ds = ds.skip(train_size)\n",
        "    val_ds = test_ds.skip(test_size)\n",
        "    test_ds = test_ds.take(test_size)\n",
        "    return train_ds, test_ds, val_ds"
      ],
      "metadata": {
        "id": "Lv9-7gnQ5Iul"
      },
      "execution_count": 8,
      "outputs": []
    },
    {
      "cell_type": "code",
      "source": [
        "train_ds, test_ds, val_ds = get_dataset_partisions_tf(dataset)\n",
        "len(train_ds), len(test_ds), len(val_ds)"
      ],
      "metadata": {
        "colab": {
          "base_uri": "https://localhost:8080/"
        },
        "id": "dky4Bqc65Nts",
        "outputId": "e624ddf1-5c12-4ac5-a6f0-2125586fd0e1"
      },
      "execution_count": 9,
      "outputs": [
        {
          "output_type": "execute_result",
          "data": {
            "text/plain": [
              "(172, 43, 1)"
            ]
          },
          "metadata": {},
          "execution_count": 9
        }
      ]
    },
    {
      "cell_type": "code",
      "source": [
        "resize_and_rescale = tf.keras.Sequential([\n",
        "    tf.keras.layers.experimental.preprocessing.Resizing(299, 299),\n",
        "    tf.keras.layers.experimental.preprocessing.Rescaling(1./255)\n",
        "])\n",
        "print(\"Done\")"
      ],
      "metadata": {
        "colab": {
          "base_uri": "https://localhost:8080/"
        },
        "id": "aR14On2C5SCZ",
        "outputId": "c73acdc3-a770-48df-9aa7-7c74def0e8ed"
      },
      "execution_count": 10,
      "outputs": [
        {
          "output_type": "stream",
          "name": "stdout",
          "text": [
            "Done\n"
          ]
        }
      ]
    },
    {
      "cell_type": "code",
      "source": [
        "# train using Xception\n",
        "base_model = tf.keras.applications.xception.Xception(\n",
        "    include_top=False,\n",
        "    weights='imagenet',\n",
        "    input_shape=(299, 299, 3),\n",
        "    pooling='avg',\n",
        "    classes=len(labels),\n",
        "    classifier_activation='softmax'\n",
        ")"
      ],
      "metadata": {
        "id": "kmSLF1zk5Wjq",
        "colab": {
          "base_uri": "https://localhost:8080/"
        },
        "outputId": "b4d1ccb9-f8da-4619-91d6-90e1cdd66e7c"
      },
      "execution_count": 11,
      "outputs": [
        {
          "output_type": "stream",
          "name": "stdout",
          "text": [
            "Downloading data from https://storage.googleapis.com/tensorflow/keras-applications/xception/xception_weights_tf_dim_ordering_tf_kernels_notop.h5\n",
            "83683744/83683744 [==============================] - 0s 0us/step\n"
          ]
        }
      ]
    },
    {
      "cell_type": "code",
      "source": [
        "base_model.trainable = False\n",
        "\n",
        "# Input tensor\n",
        "inputs = tf.keras.Input(shape=(299, 299, 3))\n",
        "\n",
        "# Resizing and Rescaling the inputs\n",
        "x = resize_and_rescale(inputs)\n",
        "\n",
        "# Use the base_model to process the input tensor\n",
        "x = base_model(x, training=False)\n",
        "\n",
        "# Flatten the output and add custom layers\n",
        "x = layers.Flatten()(x)\n",
        "x = tf.keras.layers.Dense(128, activation='relu')(x)\n",
        "x = tf.keras.layers.Dropout(0.2)(x)\n",
        "outputs = tf.keras.layers.Dense(len(labels), activation='softmax')(x)\n",
        "model = tf.keras.Model(inputs, outputs)\n",
        "\n",
        "model.compile(\n",
        "    optimizer='adam',\n",
        "    loss='sparse_categorical_crossentropy',\n",
        "    metrics=['accuracy']\n",
        ")\n",
        "\n",
        "model.summary()\n",
        "\n",
        "history = model.fit(\n",
        "    train_ds,\n",
        "    validation_data=val_ds,\n",
        "    batch_size=32,\n",
        "    epochs=20\n",
        ")"
      ],
      "metadata": {
        "colab": {
          "base_uri": "https://localhost:8080/"
        },
        "id": "Yy8oBjEB5jPO",
        "outputId": "5b66684e-4acd-45a8-eb46-8c339615c15f"
      },
      "execution_count": 12,
      "outputs": [
        {
          "output_type": "stream",
          "name": "stdout",
          "text": [
            "Model: \"model\"\n",
            "_________________________________________________________________\n",
            " Layer (type)                Output Shape              Param #   \n",
            "=================================================================\n",
            " input_2 (InputLayer)        [(None, 299, 299, 3)]     0         \n",
            "                                                                 \n",
            " sequential (Sequential)     (None, 299, 299, 3)       0         \n",
            "                                                                 \n",
            " xception (Functional)       (None, 2048)              20861480  \n",
            "                                                                 \n",
            " flatten (Flatten)           (None, 2048)              0         \n",
            "                                                                 \n",
            " dense (Dense)               (None, 128)               262272    \n",
            "                                                                 \n",
            " dropout (Dropout)           (None, 128)               0         \n",
            "                                                                 \n",
            " dense_1 (Dense)             (None, 80)                10320     \n",
            "                                                                 \n",
            "=================================================================\n",
            "Total params: 21134072 (80.62 MB)\n",
            "Trainable params: 272592 (1.04 MB)\n",
            "Non-trainable params: 20861480 (79.58 MB)\n",
            "_________________________________________________________________\n",
            "Epoch 1/20\n",
            "172/172 [==============================] - 1532s 2s/step - loss: 3.3716 - accuracy: 0.2322 - val_loss: 2.5915 - val_accuracy: 0.4375\n",
            "Epoch 2/20\n",
            "172/172 [==============================] - 492s 2s/step - loss: 1.9479 - accuracy: 0.5233 - val_loss: 1.5923 - val_accuracy: 0.6250\n",
            "Epoch 3/20\n",
            "172/172 [==============================] - 527s 2s/step - loss: 1.3872 - accuracy: 0.6480 - val_loss: 0.6388 - val_accuracy: 0.8750\n",
            "Epoch 4/20\n",
            "172/172 [==============================] - 482s 2s/step - loss: 1.0708 - accuracy: 0.7190 - val_loss: 0.7015 - val_accuracy: 0.9062\n",
            "Epoch 5/20\n",
            "172/172 [==============================] - 483s 2s/step - loss: 0.8415 - accuracy: 0.7864 - val_loss: 0.4769 - val_accuracy: 0.9375\n",
            "Epoch 6/20\n",
            "172/172 [==============================] - 481s 2s/step - loss: 0.7132 - accuracy: 0.8163 - val_loss: 0.5365 - val_accuracy: 0.9375\n",
            "Epoch 7/20\n",
            "172/172 [==============================] - 480s 2s/step - loss: 0.6261 - accuracy: 0.8343 - val_loss: 0.2622 - val_accuracy: 0.9375\n",
            "Epoch 8/20\n",
            "172/172 [==============================] - 485s 2s/step - loss: 0.5340 - accuracy: 0.8592 - val_loss: 0.5397 - val_accuracy: 0.9062\n",
            "Epoch 9/20\n",
            "172/172 [==============================] - 490s 2s/step - loss: 0.4594 - accuracy: 0.8817 - val_loss: 0.2192 - val_accuracy: 1.0000\n",
            "Epoch 10/20\n",
            "172/172 [==============================] - 488s 2s/step - loss: 0.4159 - accuracy: 0.8898 - val_loss: 0.1627 - val_accuracy: 0.9688\n",
            "Epoch 11/20\n",
            "172/172 [==============================] - 477s 2s/step - loss: 0.3516 - accuracy: 0.9126 - val_loss: 0.2038 - val_accuracy: 0.9688\n",
            "Epoch 12/20\n",
            "172/172 [==============================] - 477s 2s/step - loss: 0.3151 - accuracy: 0.9219 - val_loss: 0.1047 - val_accuracy: 1.0000\n",
            "Epoch 13/20\n",
            "172/172 [==============================] - 478s 2s/step - loss: 0.2892 - accuracy: 0.9237 - val_loss: 0.0899 - val_accuracy: 1.0000\n",
            "Epoch 14/20\n",
            "172/172 [==============================] - 479s 2s/step - loss: 0.2610 - accuracy: 0.9372 - val_loss: 0.0633 - val_accuracy: 1.0000\n",
            "Epoch 15/20\n",
            "172/172 [==============================] - 493s 2s/step - loss: 0.2226 - accuracy: 0.9452 - val_loss: 0.0660 - val_accuracy: 1.0000\n",
            "Epoch 16/20\n",
            "172/172 [==============================] - 522s 2s/step - loss: 0.1969 - accuracy: 0.9538 - val_loss: 0.1781 - val_accuracy: 0.9688\n",
            "Epoch 17/20\n",
            "172/172 [==============================] - 517s 2s/step - loss: 0.1851 - accuracy: 0.9576 - val_loss: 0.0726 - val_accuracy: 1.0000\n",
            "Epoch 18/20\n",
            "172/172 [==============================] - 518s 2s/step - loss: 0.1749 - accuracy: 0.9597 - val_loss: 0.0421 - val_accuracy: 1.0000\n",
            "Epoch 19/20\n",
            "172/172 [==============================] - 478s 2s/step - loss: 0.1538 - accuracy: 0.9643 - val_loss: 0.0773 - val_accuracy: 0.9688\n",
            "Epoch 20/20\n",
            "172/172 [==============================] - 522s 2s/step - loss: 0.1491 - accuracy: 0.9639 - val_loss: 0.0544 - val_accuracy: 1.0000\n"
          ]
        }
      ]
    },
    {
      "cell_type": "code",
      "source": [
        "model.save('model__xception.h5')"
      ],
      "metadata": {
        "colab": {
          "base_uri": "https://localhost:8080/"
        },
        "id": "V6SKsqImo9e6",
        "outputId": "4e43df5d-b305-4e4c-eb5f-91818f1bd273"
      },
      "execution_count": 13,
      "outputs": [
        {
          "output_type": "stream",
          "name": "stderr",
          "text": [
            "/usr/local/lib/python3.10/dist-packages/keras/src/engine/training.py:3079: UserWarning: You are saving your model as an HDF5 file via `model.save()`. This file format is considered legacy. We recommend using instead the native Keras format, e.g. `model.save('my_model.keras')`.\n",
            "  saving_api.save_model(\n"
          ]
        }
      ]
    }
  ]
}