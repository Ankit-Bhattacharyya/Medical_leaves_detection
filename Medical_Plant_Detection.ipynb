{
  "nbformat": 4,
  "nbformat_minor": 0,
  "metadata": {
    "colab": {
      "provenance": [],
      "gpuType": "T4"
    },
    "kernelspec": {
      "name": "python3",
      "display_name": "Python 3"
    },
    "language_info": {
      "name": "python"
    },
    "accelerator": "GPU"
  },
  "cells": [
    {
      "cell_type": "code",
      "execution_count": 1,
      "metadata": {
        "colab": {
          "base_uri": "https://localhost:8080/"
        },
        "id": "BB3YuzToh_OC",
        "outputId": "be35eb07-8530-4303-b414-88f119254861"
      },
      "outputs": [
        {
          "output_type": "stream",
          "name": "stdout",
          "text": [
            "Mounted at /content/drive\n"
          ]
        }
      ],
      "source": [
        "from google.colab import drive\n",
        "drive.mount(\"/content/drive\")"
      ]
    },
    {
      "cell_type": "code",
      "source": [
        "!pwd"
      ],
      "metadata": {
        "colab": {
          "base_uri": "https://localhost:8080/"
        },
        "id": "j5rowbiW4E_r",
        "outputId": "33a81ead-b5fb-42af-ff8f-352e490b9bd7"
      },
      "execution_count": 2,
      "outputs": [
        {
          "output_type": "stream",
          "name": "stdout",
          "text": [
            "/content\n"
          ]
        }
      ]
    },
    {
      "cell_type": "code",
      "source": [
        "%cd /content/drive//MyDrive"
      ],
      "metadata": {
        "colab": {
          "base_uri": "https://localhost:8080/"
        },
        "id": "57jPjwlJ3tk0",
        "outputId": "0d0c7f56-a2cb-40cb-93e2-8c687853ec70"
      },
      "execution_count": 2,
      "outputs": [
        {
          "output_type": "stream",
          "name": "stdout",
          "text": [
            "/content/drive/MyDrive\n"
          ]
        }
      ]
    },
    {
      "cell_type": "code",
      "source": [
        "!pip install tensorflow"
      ],
      "metadata": {
        "id": "D0HeFDZkheJb"
      },
      "execution_count": null,
      "outputs": []
    },
    {
      "cell_type": "code",
      "source": [
        "import tensorflow as tf\n",
        "from tensorflow.keras import layers\n",
        "import numpy as np"
      ],
      "metadata": {
        "id": "u4JQ1UY2mIQG"
      },
      "execution_count": 3,
      "outputs": []
    },
    {
      "cell_type": "code",
      "source": [
        "dataset = tf.keras.preprocessing.image_dataset_from_directory(\n",
        "    \"/content/drive/MyDrive/Medicinal plant dataset\",\n",
        "    shuffle=True,\n",
        "    batch_size=32,\n",
        "    image_size=(299, 299),\n",
        ")\n",
        "\n",
        "labels = dataset.class_names\n",
        "labels"
      ],
      "metadata": {
        "colab": {
          "base_uri": "https://localhost:8080/"
        },
        "id": "eouNB1DJ3oPJ",
        "outputId": "5b983e11-e619-4ce2-f0e2-162b6886b87f"
      },
      "execution_count": 4,
      "outputs": [
        {
          "output_type": "stream",
          "name": "stdout",
          "text": [
            "Found 5945 files belonging to 40 classes.\n"
          ]
        },
        {
          "output_type": "execute_result",
          "data": {
            "text/plain": [
              "['Aloevera',\n",
              " 'Amla',\n",
              " 'Amruta_Balli',\n",
              " 'Arali',\n",
              " 'Ashoka',\n",
              " 'Ashwagandha',\n",
              " 'Avacado',\n",
              " 'Bamboo',\n",
              " 'Basale',\n",
              " 'Betel',\n",
              " 'Betel_Nut',\n",
              " 'Brahmi',\n",
              " 'Castor',\n",
              " 'Curry_Leaf',\n",
              " 'Doddapatre',\n",
              " 'Ekka',\n",
              " 'Ganike',\n",
              " 'Gauva',\n",
              " 'Geranium',\n",
              " 'Henna',\n",
              " 'Hibiscus',\n",
              " 'Honge',\n",
              " 'Insulin',\n",
              " 'Jasmine',\n",
              " 'Lemon',\n",
              " 'Lemon_grass',\n",
              " 'Mango',\n",
              " 'Mint',\n",
              " 'Nagadali',\n",
              " 'Neem',\n",
              " 'Nithyapushpa',\n",
              " 'Nooni',\n",
              " 'Pappaya',\n",
              " 'Pepper',\n",
              " 'Pomegranate',\n",
              " 'Raktachandini',\n",
              " 'Rose',\n",
              " 'Sapota',\n",
              " 'Tulasi',\n",
              " 'Wood_sorel']"
            ]
          },
          "metadata": {},
          "execution_count": 4
        }
      ]
    },
    {
      "cell_type": "code",
      "source": [
        "for image_batch, labels_batch in dataset.take(1):\n",
        "    print(image_batch.shape)\n",
        "    print(labels_batch.numpy())\n",
        "    break"
      ],
      "metadata": {
        "colab": {
          "base_uri": "https://localhost:8080/"
        },
        "id": "S04qeMSd4bOB",
        "outputId": "785d59da-8922-4925-f0c6-b0d2c1a5f106"
      },
      "execution_count": 5,
      "outputs": [
        {
          "output_type": "stream",
          "name": "stdout",
          "text": [
            "(32, 299, 299, 3)\n",
            "[15 33 28 19 28  1 32 20  1 29 13  3  2 29 16  5 25 35 35  9 27 19 27 28\n",
            " 16 21 35 37 27 35 36 26]\n"
          ]
        }
      ]
    },
    {
      "cell_type": "code",
      "source": [
        "# train test split\n",
        "train_size = int(0.8 * len(dataset))\n",
        "test_size = int(0.2 * len(dataset))\n",
        "train_size, test_size"
      ],
      "metadata": {
        "colab": {
          "base_uri": "https://localhost:8080/"
        },
        "id": "wKy8p7_T5D0s",
        "outputId": "2363188d-d0f2-4293-9059-70aee7cfd86f"
      },
      "execution_count": 6,
      "outputs": [
        {
          "output_type": "execute_result",
          "data": {
            "text/plain": [
              "(148, 37)"
            ]
          },
          "metadata": {},
          "execution_count": 6
        }
      ]
    },
    {
      "cell_type": "code",
      "source": [
        "def get_dataset_partisions_tf(ds, train_split=0.8, test_split=0.2, shuffle=True, shuffle_size=10000):\n",
        "    if shuffle:\n",
        "        ds = ds.shuffle(shuffle_size, seed=12)\n",
        "    train_size = int(train_split * len(ds))\n",
        "    test_size = int(test_split * len(ds))\n",
        "    train_ds = ds.take(train_size)\n",
        "    test_ds = ds.skip(train_size)\n",
        "    val_ds = test_ds.skip(test_size)\n",
        "    test_ds = test_ds.take(test_size)\n",
        "    return train_ds, test_ds, val_ds"
      ],
      "metadata": {
        "id": "Lv9-7gnQ5Iul"
      },
      "execution_count": 7,
      "outputs": []
    },
    {
      "cell_type": "code",
      "source": [
        "train_ds, test_ds, val_ds = get_dataset_partisions_tf(dataset)\n",
        "len(train_ds), len(test_ds), len(val_ds)"
      ],
      "metadata": {
        "colab": {
          "base_uri": "https://localhost:8080/"
        },
        "id": "dky4Bqc65Nts",
        "outputId": "cdf16812-7094-4558-c76a-06cbd7d872a7"
      },
      "execution_count": 8,
      "outputs": [
        {
          "output_type": "execute_result",
          "data": {
            "text/plain": [
              "(148, 37, 1)"
            ]
          },
          "metadata": {},
          "execution_count": 8
        }
      ]
    },
    {
      "cell_type": "code",
      "source": [
        "resize_and_rescale = tf.keras.Sequential([\n",
        "    tf.keras.layers.experimental.preprocessing.Resizing(299, 299),\n",
        "    tf.keras.layers.experimental.preprocessing.Rescaling(1./255)\n",
        "])\n",
        "print(\"Done\")"
      ],
      "metadata": {
        "colab": {
          "base_uri": "https://localhost:8080/"
        },
        "id": "aR14On2C5SCZ",
        "outputId": "a7976088-ec68-462d-8d2e-99cc78645fc4"
      },
      "execution_count": 9,
      "outputs": [
        {
          "output_type": "stream",
          "name": "stdout",
          "text": [
            "Done\n"
          ]
        }
      ]
    },
    {
      "cell_type": "code",
      "source": [
        "# train using Xception\n",
        "base_model = tf.keras.applications.xception.Xception(\n",
        "    include_top=False,\n",
        "    weights='imagenet',\n",
        "    input_shape=(299, 299, 3),\n",
        "    pooling='avg',\n",
        "    classes=len(labels),\n",
        "    classifier_activation='softmax'\n",
        ")"
      ],
      "metadata": {
        "id": "kmSLF1zk5Wjq",
        "colab": {
          "base_uri": "https://localhost:8080/"
        },
        "outputId": "2d1f2031-68a3-4afb-a607-5ce1e4bfad1b"
      },
      "execution_count": 10,
      "outputs": [
        {
          "output_type": "stream",
          "name": "stdout",
          "text": [
            "Downloading data from https://storage.googleapis.com/tensorflow/keras-applications/xception/xception_weights_tf_dim_ordering_tf_kernels_notop.h5\n",
            "83683744/83683744 [==============================] - 3s 0us/step\n"
          ]
        }
      ]
    },
    {
      "cell_type": "code",
      "source": [
        "base_model.trainable = False\n",
        "\n",
        "# Input tensor\n",
        "inputs = tf.keras.Input(shape=(299, 299, 3))\n",
        "\n",
        "# Resizing and Rescaling the inputs\n",
        "x = resize_and_rescale(inputs)\n",
        "\n",
        "# Use the base_model to process the input tensor\n",
        "x = base_model(x, training=False)\n",
        "\n",
        "# Flatten the output and add custom layers\n",
        "x = layers.Flatten()(x)\n",
        "x = tf.keras.layers.Dense(128, activation='relu')(x)\n",
        "x = tf.keras.layers.Dropout(0.2)(x)\n",
        "outputs = tf.keras.layers.Dense(len(labels), activation='softmax')(x)\n",
        "model = tf.keras.Model(inputs, outputs)\n",
        "\n",
        "model.compile(\n",
        "    optimizer='adam',\n",
        "    loss='sparse_categorical_crossentropy',\n",
        "    metrics=['accuracy']\n",
        ")\n",
        "\n",
        "model.summary()\n",
        "\n",
        "history = model.fit(\n",
        "    train_ds,\n",
        "    validation_data=val_ds,\n",
        "    batch_size=32,\n",
        "    epochs=20\n",
        ")"
      ],
      "metadata": {
        "colab": {
          "base_uri": "https://localhost:8080/"
        },
        "id": "Yy8oBjEB5jPO",
        "outputId": "9d791669-576c-449a-8386-548e2f13b3e0"
      },
      "execution_count": 11,
      "outputs": [
        {
          "output_type": "stream",
          "name": "stdout",
          "text": [
            "Model: \"model\"\n",
            "_________________________________________________________________\n",
            " Layer (type)                Output Shape              Param #   \n",
            "=================================================================\n",
            " input_2 (InputLayer)        [(None, 299, 299, 3)]     0         \n",
            "                                                                 \n",
            " sequential (Sequential)     (None, 299, 299, 3)       0         \n",
            "                                                                 \n",
            " xception (Functional)       (None, 2048)              20861480  \n",
            "                                                                 \n",
            " flatten (Flatten)           (None, 2048)              0         \n",
            "                                                                 \n",
            " dense (Dense)               (None, 128)               262272    \n",
            "                                                                 \n",
            " dropout (Dropout)           (None, 128)               0         \n",
            "                                                                 \n",
            " dense_1 (Dense)             (None, 40)                5160      \n",
            "                                                                 \n",
            "=================================================================\n",
            "Total params: 21128912 (80.60 MB)\n",
            "Trainable params: 267432 (1.02 MB)\n",
            "Non-trainable params: 20861480 (79.58 MB)\n",
            "_________________________________________________________________\n",
            "Epoch 1/20\n",
            "148/148 [==============================] - 1399s 439ms/step - loss: 2.2017 - accuracy: 0.4498 - val_loss: 1.0050 - val_accuracy: 0.8125\n",
            "Epoch 2/20\n",
            "148/148 [==============================] - 100s 500ms/step - loss: 0.9643 - accuracy: 0.7464 - val_loss: 0.7481 - val_accuracy: 0.8438\n",
            "Epoch 3/20\n",
            "148/148 [==============================] - 88s 411ms/step - loss: 0.6405 - accuracy: 0.8311 - val_loss: 0.2534 - val_accuracy: 0.9375\n",
            "Epoch 4/20\n",
            "148/148 [==============================] - 94s 440ms/step - loss: 0.4655 - accuracy: 0.8841 - val_loss: 0.2276 - val_accuracy: 0.9688\n",
            "Epoch 5/20\n",
            "148/148 [==============================] - 97s 432ms/step - loss: 0.3756 - accuracy: 0.9088 - val_loss: 0.3052 - val_accuracy: 0.9062\n",
            "Epoch 6/20\n",
            "148/148 [==============================] - 99s 459ms/step - loss: 0.2970 - accuracy: 0.9209 - val_loss: 0.1673 - val_accuracy: 1.0000\n",
            "Epoch 7/20\n",
            "148/148 [==============================] - 99s 444ms/step - loss: 0.2326 - accuracy: 0.9478 - val_loss: 0.0549 - val_accuracy: 1.0000\n",
            "Epoch 8/20\n",
            "148/148 [==============================] - 96s 444ms/step - loss: 0.1939 - accuracy: 0.9533 - val_loss: 0.1038 - val_accuracy: 0.9688\n",
            "Epoch 9/20\n",
            "148/148 [==============================] - 105s 503ms/step - loss: 0.1716 - accuracy: 0.9590 - val_loss: 0.0785 - val_accuracy: 0.9688\n",
            "Epoch 10/20\n",
            "148/148 [==============================] - 97s 432ms/step - loss: 0.1257 - accuracy: 0.9744 - val_loss: 0.0883 - val_accuracy: 0.9688\n",
            "Epoch 11/20\n",
            "148/148 [==============================] - 94s 435ms/step - loss: 0.1140 - accuracy: 0.9738 - val_loss: 0.0591 - val_accuracy: 1.0000\n",
            "Epoch 12/20\n",
            "148/148 [==============================] - 94s 436ms/step - loss: 0.1001 - accuracy: 0.9799 - val_loss: 0.0245 - val_accuracy: 1.0000\n",
            "Epoch 13/20\n",
            "148/148 [==============================] - 95s 432ms/step - loss: 0.0919 - accuracy: 0.9827 - val_loss: 0.0216 - val_accuracy: 1.0000\n",
            "Epoch 14/20\n",
            "148/148 [==============================] - 107s 502ms/step - loss: 0.0808 - accuracy: 0.9818 - val_loss: 0.0163 - val_accuracy: 1.0000\n",
            "Epoch 15/20\n",
            "148/148 [==============================] - 96s 442ms/step - loss: 0.0756 - accuracy: 0.9846 - val_loss: 0.0263 - val_accuracy: 1.0000\n",
            "Epoch 16/20\n",
            "148/148 [==============================] - 97s 449ms/step - loss: 0.0765 - accuracy: 0.9837 - val_loss: 0.0492 - val_accuracy: 0.9688\n",
            "Epoch 17/20\n",
            "148/148 [==============================] - 91s 411ms/step - loss: 0.0559 - accuracy: 0.9884 - val_loss: 0.0186 - val_accuracy: 1.0000\n",
            "Epoch 18/20\n",
            "148/148 [==============================] - 87s 409ms/step - loss: 0.0547 - accuracy: 0.9913 - val_loss: 0.0105 - val_accuracy: 1.0000\n",
            "Epoch 19/20\n",
            "148/148 [==============================] - 100s 502ms/step - loss: 0.0531 - accuracy: 0.9884 - val_loss: 0.0082 - val_accuracy: 1.0000\n",
            "Epoch 20/20\n",
            "148/148 [==============================] - 88s 410ms/step - loss: 0.0584 - accuracy: 0.9860 - val_loss: 0.0182 - val_accuracy: 1.0000\n"
          ]
        }
      ]
    },
    {
      "cell_type": "code",
      "source": [
        "model.save('model__xception.h5')"
      ],
      "metadata": {
        "colab": {
          "base_uri": "https://localhost:8080/"
        },
        "id": "V6SKsqImo9e6",
        "outputId": "a8b44e4b-cd4c-4d95-acf7-21a441b3b985"
      },
      "execution_count": 12,
      "outputs": [
        {
          "output_type": "stream",
          "name": "stderr",
          "text": [
            "/usr/local/lib/python3.10/dist-packages/keras/src/engine/training.py:3103: UserWarning: You are saving your model as an HDF5 file via `model.save()`. This file format is considered legacy. We recommend using instead the native Keras format, e.g. `model.save('my_model.keras')`.\n",
            "  saving_api.save_model(\n"
          ]
        }
      ]
    }
  ]
}