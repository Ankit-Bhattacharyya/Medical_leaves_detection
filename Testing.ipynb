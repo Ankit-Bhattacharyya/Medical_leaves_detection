{
  "nbformat": 4,
  "nbformat_minor": 0,
  "metadata": {
    "colab": {
      "provenance": []
    },
    "kernelspec": {
      "name": "python3",
      "display_name": "Python 3"
    },
    "language_info": {
      "name": "python"
    }
  },
  "cells": [
    {
      "cell_type": "code",
      "execution_count": 1,
      "metadata": {
        "colab": {
          "base_uri": "https://localhost:8080/"
        },
        "id": "7ZyPJ6xOeCSw",
        "outputId": "c44dad2f-8255-47bf-e801-0d5a56c1e490"
      },
      "outputs": [
        {
          "output_type": "stream",
          "name": "stdout",
          "text": [
            "Mounted at /content/drive\n"
          ]
        }
      ],
      "source": [
        "from google.colab import drive\n",
        "drive.mount(\"/content/drive\")"
      ]
    },
    {
      "cell_type": "code",
      "source": [
        "%cd /content/drive//MyDrive"
      ],
      "metadata": {
        "colab": {
          "base_uri": "https://localhost:8080/"
        },
        "id": "Zef_Gig-eG1u",
        "outputId": "3c0f3c01-5359-4212-f7d3-da2dbe06157e"
      },
      "execution_count": 2,
      "outputs": [
        {
          "output_type": "stream",
          "name": "stdout",
          "text": [
            "/content/drive/MyDrive\n"
          ]
        }
      ]
    },
    {
      "cell_type": "code",
      "source": [
        "import tensorflow as tf\n",
        "import numpy as np"
      ],
      "metadata": {
        "id": "ALDO6biteJWU"
      },
      "execution_count": 3,
      "outputs": []
    },
    {
      "cell_type": "code",
      "source": [
        "dataset = tf.keras.preprocessing.image_dataset_from_directory(\n",
        "    \"/content/drive/MyDrive/Medicinal Leaf dataset\",\n",
        "    shuffle=True,\n",
        "    batch_size=32,\n",
        "    image_size=(299, 299),\n",
        ")\n",
        "\n",
        "labels = dataset.class_names\n",
        "print(\"Done\")"
      ],
      "metadata": {
        "colab": {
          "base_uri": "https://localhost:8080/"
        },
        "id": "Xyp1lXhAg3dx",
        "outputId": "29e1853c-be47-46d3-bfec-a373886a24d4"
      },
      "execution_count": 8,
      "outputs": [
        {
          "output_type": "stream",
          "name": "stdout",
          "text": [
            "Found 6900 files belonging to 80 classes.\n",
            "Done\n"
          ]
        }
      ]
    },
    {
      "cell_type": "code",
      "source": [
        "# With the path to your actual .h5 file\n",
        "model_path = 'model__xception.h5'\n",
        "\n",
        "# Load the pre-trained model\n",
        "model = tf.keras.models.load_model(model_path)\n",
        "\n",
        "# Display the model summary\n",
        "model.summary()\n"
      ],
      "metadata": {
        "colab": {
          "base_uri": "https://localhost:8080/"
        },
        "id": "R4QnurvreO17",
        "outputId": "f3f16307-141f-4335-b22b-a824dab980f6"
      },
      "execution_count": 5,
      "outputs": [
        {
          "output_type": "stream",
          "name": "stdout",
          "text": [
            "Model: \"model\"\n",
            "_________________________________________________________________\n",
            " Layer (type)                Output Shape              Param #   \n",
            "=================================================================\n",
            " input_2 (InputLayer)        [(None, 299, 299, 3)]     0         \n",
            "                                                                 \n",
            " sequential (Sequential)     (None, 299, 299, 3)       0         \n",
            "                                                                 \n",
            " xception (Functional)       (None, 2048)              20861480  \n",
            "                                                                 \n",
            " flatten (Flatten)           (None, 2048)              0         \n",
            "                                                                 \n",
            " dense (Dense)               (None, 128)               262272    \n",
            "                                                                 \n",
            " dropout (Dropout)           (None, 128)               0         \n",
            "                                                                 \n",
            " dense_1 (Dense)             (None, 80)                10320     \n",
            "                                                                 \n",
            "=================================================================\n",
            "Total params: 21134072 (80.62 MB)\n",
            "Trainable params: 272592 (1.04 MB)\n",
            "Non-trainable params: 20861480 (79.58 MB)\n",
            "_________________________________________________________________\n"
          ]
        }
      ]
    },
    {
      "cell_type": "code",
      "source": [
        "# predict with new images\n",
        "import numpy as np\n",
        "\n",
        "img = tf.keras.preprocessing.image.load_img(\n",
        "    '/content/drive/MyDrive/test/Alo.jpg', target_size=(299, 299)\n",
        ")\n",
        "img_array = tf.keras.preprocessing.image.img_to_array(img)\n",
        "img_array = tf.expand_dims(img_array, 0)  # Create a batch\n",
        "\n",
        "\n",
        "predictions = model.predict(img_array)\n",
        "score = tf.nn.sigmoid(predictions[0])\n",
        "print(\n",
        "    \"This image most likely belongs to {} with a {:.2f} percent confidence.\"\n",
        "    .format(labels[np.argmax(score)], 100 * np.max(score))\n",
        ")"
      ],
      "metadata": {
        "colab": {
          "base_uri": "https://localhost:8080/"
        },
        "id": "MTXviy2dgPwf",
        "outputId": "8d2d9749-627a-400f-d4d0-231c81ee5d95"
      },
      "execution_count": 9,
      "outputs": [
        {
          "output_type": "stream",
          "name": "stdout",
          "text": [
            "1/1 [==============================] - 0s 366ms/step\n",
            "This image most likely belongs to Aloevera with a 73.06 percent confidence.\n"
          ]
        }
      ]
    },
    {
      "cell_type": "code",
      "source": [
        "# predict with new images\n",
        "img = tf.keras.preprocessing.image.load_img(\n",
        "    '/content/drive/MyDrive/test/Bram.jpg', target_size=(299, 299)\n",
        ")\n",
        "img_array = tf.keras.preprocessing.image.img_to_array(img)\n",
        "img_array = tf.expand_dims(img_array, 0)  # Create a batch\n",
        "\n",
        "\n",
        "predictions = model.predict(img_array)\n",
        "score = tf.nn.sigmoid(predictions[0])\n",
        "print(\n",
        "    \"This image most likely belongs to {} with a {:.2f} percent confidence.\"\n",
        "    .format(labels[np.argmax(score)], 100 * np.max(score))\n",
        ")"
      ],
      "metadata": {
        "colab": {
          "base_uri": "https://localhost:8080/"
        },
        "id": "i-UE832chCcM",
        "outputId": "dec4b7df-6625-4edf-fb78-3db9836cdd1a"
      },
      "execution_count": 12,
      "outputs": [
        {
          "output_type": "stream",
          "name": "stdout",
          "text": [
            "1/1 [==============================] - 1s 585ms/step\n",
            "This image most likely belongs to Bhrami with a 72.98 percent confidence.\n"
          ]
        }
      ]
    }
  ]
}